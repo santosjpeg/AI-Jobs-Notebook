{
 "cells": [
  {
   "cell_type": "markdown",
   "id": "49bb0d27-23a3-4b56-8f15-6d0c3de0a313",
   "metadata": {},
   "source": [
    "# 01-Exploration File: Data Inspection + EDA\n",
    "## Purpose\n",
    "The purpose of this notebook is to parse through a data set of current AI Job listings across the world.\n",
    "- **Data Inspection:** What the data looks like, what data types we are dealing with, etc.\n",
    "- **EDA:** Basic statistical analysis, observing the code for patterns to curate problem statements\n",
    "## Dataset\n",
    "The AI Jobs dataset is used in a Kaggle competition. (**Source:** https://www.kaggle.com/datasets/bismasajjad/global-ai-job-market-and-salary-trends-2025/data)\n",
    "\n",
    "**Description:** This comprehensive dataset contains detailed information about AI and machine learning job positions, salaries, and market trends across different countries, experience levels, and company sizes. Perfect for data science enthusiasts, career researchers, and market analysts for practice purposes.\n",
    "\n",
    "**About this File**\n",
    "\n",
    "This dataset provides an extensive analysis of the artificial intelligence job market with over 15,000 real job postings collected from major job platforms worldwide. It includes detailed salary information, job requirements, company insights, and geographic trends.\n",
    "\n",
    "**Key Features**\n",
    "\n",
    "    15,000+ job listings from 50+ countries\n",
    "    Salary data in multiple currencies (normalized to USD)\n",
    "    Experience level categorization (Entry, Mid, Senior, Executive)\n",
    "    Company size impact analysis\n",
    "    Remote work trends and patterns\n",
    "    Skills demand analysis\n",
    "    Geographic salary variations\n",
    "    Time-series data showing market evolution\n"
   ]
  },
  {
   "cell_type": "code",
   "execution_count": 43,
   "id": "cfc7d44f-114d-4c08-b21b-43bdb6569c82",
   "metadata": {},
   "outputs": [],
   "source": [
    "# Import libraries\n",
    "import pandas as pd\n",
    "import os\n",
    "from dotenv import load_dotenv"
   ]
  },
  {
   "cell_type": "code",
   "execution_count": 46,
   "id": "e6a8f580-9a37-4014-83ad-ca5652fd4911",
   "metadata": {},
   "outputs": [],
   "source": [
    "# Importing and assigning variable names to globals\n",
    "load_dotenv()\n",
    "FILE_PATH = os.getenv(\"FILE_PATH\")"
   ]
  },
  {
   "cell_type": "code",
   "execution_count": 27,
   "id": "72395e9d-4765-41fb-b028-2df99bddf969",
   "metadata": {},
   "outputs": [],
   "source": [
    "# Read .csv file and convert it to Pandas DataFram\n",
    "df = pd.read_csv(FILE_PATH)\n",
    "display(df.head())\n"
   ]
  },
  {
   "cell_type": "code",
   "execution_count": null,
   "id": "a0b9787b-669c-4a1d-ace2-d282ce68b56b",
   "metadata": {},
   "outputs": [],
   "source": []
  }
 ],
 "metadata": {
  "kernelspec": {
   "display_name": "project",
   "language": "python",
   "name": "project"
  },
  "language_info": {
   "codemirror_mode": {
    "name": "ipython",
    "version": 3
   },
   "file_extension": ".py",
   "mimetype": "text/x-python",
   "name": "python",
   "nbconvert_exporter": "python",
   "pygments_lexer": "ipython3",
   "version": "3.13.5"
  }
 },
 "nbformat": 4,
 "nbformat_minor": 5
}
